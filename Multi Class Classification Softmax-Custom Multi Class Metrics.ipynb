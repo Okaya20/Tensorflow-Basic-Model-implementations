{
 "cells": [
  {
   "cell_type": "code",
   "execution_count": 204,
   "id": "c4625a2f",
   "metadata": {},
   "outputs": [],
   "source": [
    "import numpy as np\n",
    "import pandas as pd\n",
    "import tensorflow as tf\n",
    "from tensorflow.keras import layers\n",
    "import matplotlib.pyplot as plt\n",
    "from sklearn.preprocessing import StandardScaler\n",
    "import chart_studio.plotly as py\n",
    "# The following lines adjust the granularity of reporting. \n",
    "pd.options.display.max_rows = 10\n",
    "pd.options.display.float_format = \"{:.1f}\".format\n",
    "import plotly\n",
    "import plotly.graph_objs as go\n",
    "# The following line improves formatting when ouputting NumPy arrays.\n",
    "np.set_printoptions(linewidth = 200)"
   ]
  },
  {
   "cell_type": "code",
   "execution_count": 3,
   "id": "6d8f423d",
   "metadata": {},
   "outputs": [
    {
     "name": "stdout",
     "output_type": "stream",
     "text": [
      "Downloading data from https://storage.googleapis.com/tensorflow/tf-keras-datasets/mnist.npz\n",
      "11490434/11490434 [==============================] - 3s 0us/step\n"
     ]
    }
   ],
   "source": [
    "(x_train, y_train),(x_test, y_test) = tf.keras.datasets.mnist.load_data()"
   ]
  },
  {
   "cell_type": "code",
   "execution_count": 6,
   "id": "9a952d5e",
   "metadata": {},
   "outputs": [
    {
     "data": {
      "text/plain": [
       "array([[  0,   0,   0,   0,   0,   0,   0,   0,   0,   0,   0,   0,   0,   0,   0,   0,   0,   0,   0,   0,   0,   0,   0,   0,   0,   0,   0,   0],\n",
       "       [  0,   0,   0,   0,   0,   0,   0,   0,   0,   0,   0,   0,   0,   0,   0,   0,   0,   0,   0,   0,   0,   0,   0,   0,   0,   0,   0,   0],\n",
       "       [  0,   0,   0,   0,   0,   0,   0,   0,   0,   0,   0,   0,   0,   0,   0,   0,   0,   0,   0,   0,   0,   0,   0,   0,   0,   0,   0,   0],\n",
       "       [  0,   0,   0,   0,   0,   0,   0,   0,   0,   0,   0,   0,   0,   0,   0,   0,   0,   0,   0,   0,   0,   0,   0,   0,   0,   0,   0,   0],\n",
       "       [  0,   0,   0,   0,   0,   0,   0,   0,   0,   0,   0,   0,   0,   0,   0,   0,   0,   0,   0,   0,   0,   0,   0,   0,   0,   0,   0,   0],\n",
       "       [  0,   0,   0,   0,   0,   0,   0,   0,   0,   0,   0,   0,   0,   0,   0,   0,   0,   0,   0,   0,   0,   0,   0,   0,   0,   0,   0,   0],\n",
       "       [  0,   0,   0,   0,   0,   0,   0,   0, 127, 100, 156, 239, 224, 177, 213, 159,  70,  13,   0,   0,   0,   0,   0,   0,   0,   0,   0,   0],\n",
       "       [  0,   0,   0,   0,   0,   0,   0, 110, 250, 254, 254, 254, 254, 254, 254, 254, 254, 184,  10,   0,   0,   0,   0,   0,   0,   0,   0,   0],\n",
       "       [  0,   0,   0,   0,   0,   0,   0, 216, 254, 254, 254, 254, 254, 254, 254, 254, 254, 251,  54,   0,   0,   0,   0,   0,   0,   0,   0,   0],\n",
       "       [  0,   0,   0,   0,   0,   0,   0,   3, 131, 197,  68, 137, 101,  83,  41,  70, 221, 254, 108,   0,   0,   0,   0,   0,   0,   0,   0,   0],\n",
       "       [  0,   0,   0,   0,   0,   0,   0,   0,   0,   0,   0,   0,   0,   0,   0,   0,  58, 254, 216,  11,   0,   0,   0,   0,   0,   0,   0,   0],\n",
       "       [  0,   0,   0,   0,   0,   0,   0,   0,   0,   0,   0,   0,   0,   0,   0,   0, 110, 254, 254,  24,   0,   0,   0,   0,   0,   0,   0,   0],\n",
       "       [  0,   0,   0,   0,   0,   0,   0,   0,   0,   0,   0,   0,   0,   0,   4,  83, 247, 254, 192,  10,   0,   0,   0,   0,   0,   0,   0,   0],\n",
       "       [  0,   0,   0,   0,   0,   0,   0,   0,   0,   0,   0,   0,   0,  37, 124, 254, 254, 250,  47,   0,   0,   0,   0,   0,   0,   0,   0,   0],\n",
       "       [  0,   0,   0,   0,   0,   0,   0,   0,   0,   0,   0, 113, 178, 250, 254, 254, 254, 252, 178, 128,  50,   0,   0,   0,   0,   0,   0,   0],\n",
       "       [  0,   0,   0,   0,   0,   0,   0,   0,   0,   0,  69, 252, 254, 254, 254, 254, 254, 254, 254, 254, 153,   0,   0,   0,   0,   0,   0,   0],\n",
       "       [  0,   0,   0,   0,   0,   0,   0,   0,   0,   0, 141, 252, 254, 241, 241, 254, 247, 252, 254, 254, 153,   0,   0,   0,   0,   0,   0,   0],\n",
       "       [  0,   0,   0,   0,   0,   0,   0,   0,   0,   0,   0,  68,  82,   5,   5,  82,  37,  65, 167, 254, 190,   0,   0,   0,   0,   0,   0,   0],\n",
       "       [  0,   0,   0,   0,   0,   0,   0,   0,   0,   0,   0,   0,   0,   0,   0,   0,   0,   0, 162, 254, 153,   0,   0,   0,   0,   0,   0,   0],\n",
       "       [  0,   0,   0,   0,   0,   0,   0,   0,   0,   0,   0,   0,   0,   0,   0,   0,   0,   1, 172, 253,  75,   0,   0,   0,   0,   0,   0,   0],\n",
       "       [  0,   0,   0,   0,   0,   0,   0,   0,   0,   0,   0,   0,   0,   0,   0,   0,   0, 102, 254, 152,   0,   0,   0,   0,   0,   0,   0,   0],\n",
       "       [  0,   0,   0,   0,   0,   0,   0,   0,   0,   0,   0,   0,   0,   0,   0,   0,  38, 230, 216,  20,   0,   0,   0,   0,   0,   0,   0,   0],\n",
       "       [  0,   0,   0,   0,   0,   0,   0,   0,   0,   0,   0,   0,   0,   0,   1,  71, 222, 254, 142,   0,   0,   0,   0,   0,   0,   0,   0,   0],\n",
       "       [  0,   0,   0,   0,   0,   0,   0,   0,   0,   0,   0,   0,   0,   0,  66, 254, 254, 157,   0,   0,   0,   0,   0,   0,   0,   0,   0,   0],\n",
       "       [  0,   0,   0,   0,   0,   0,   0,   0,   4,  34,  34,  78, 161, 226, 249, 254, 154,   6,   0,   0,   0,   0,   0,   0,   0,   0,   0,   0],\n",
       "       [  0,   0,   0,   0,   0,   0,   0,  96, 184, 254, 254, 254, 254, 254, 249,  93,   5,   0,   0,   0,   0,   0,   0,   0,   0,   0,   0,   0],\n",
       "       [  0,   0,   0,   0,   0,   0,   0,   0,   0,   0,   0,   0,   0,   0,   0,   0,   0,   0,   0,   0,   0,   0,   0,   0,   0,   0,   0,   0],\n",
       "       [  0,   0,   0,   0,   0,   0,   0,   0,   0,   0,   0,   0,   0,   0,   0,   0,   0,   0,   0,   0,   0,   0,   0,   0,   0,   0,   0,   0]], dtype=uint8)"
      ]
     },
     "execution_count": 6,
     "metadata": {},
     "output_type": "execute_result"
    }
   ],
   "source": [
    "x_train[2917]"
   ]
  },
  {
   "cell_type": "code",
   "execution_count": 7,
   "id": "56cb8fd2",
   "metadata": {},
   "outputs": [
    {
     "data": {
      "text/plain": [
       "<matplotlib.image.AxesImage at 0x14fe24db648>"
      ]
     },
     "execution_count": 7,
     "metadata": {},
     "output_type": "execute_result"
    },
    {
     "data": {
      "image/png": "[encoded data removed]",
      "text/plain": [
       "<Figure size 640x480 with 1 Axes>"
      ]
     },
     "metadata": {},
     "output_type": "display_data"
    }
   ],
   "source": [
    "plt.imshow(x_train[2917])"
   ]
  },
  {
   "cell_type": "code",
   "execution_count": 8,
   "id": "084ed014",
   "metadata": {},
   "outputs": [
    {
     "data": {
      "text/plain": [
       "array([  0,   0,   0,   0,   0,   0,   0,   0,   0,   0,   0,   0,   0,   0,   0,   0,  58, 254, 216,  11,   0,   0,   0,   0,   0,   0,   0,   0], dtype=uint8)"
      ]
     },
     "execution_count": 8,
     "metadata": {},
     "output_type": "execute_result"
    }
   ],
   "source": [
    "x_train[2917][10]"
   ]
  },
  {
   "cell_type": "code",
   "execution_count": 9,
   "id": "9df0dc65",
   "metadata": {},
   "outputs": [
    {
     "data": {
      "text/plain": [
       "0"
      ]
     },
     "execution_count": 9,
     "metadata": {},
     "output_type": "execute_result"
    }
   ],
   "source": [
    "x_train[2900][10][16]"
   ]
  },
  {
   "cell_type": "code",
   "execution_count": 11,
   "id": "02ce9b85",
   "metadata": {},
   "outputs": [
    {
     "name": "stdout",
     "output_type": "stream",
     "text": [
      "[0.         0.         0.         0.         0.         0.         0.         0.55294118 1.         0.66666667 0.11372549 0.         0.         0.         0.         0.         0.         0.\n",
      " 0.         0.         0.         0.         0.         0.         0.         0.         0.         0.        ]\n"
     ]
    }
   ],
   "source": [
    "x_train_normalized = x_train / 255.0\n",
    "x_test_normalized = x_test / 255.0\n",
    "print(x_train_normalized[2900][10]) # Output a normalized row"
   ]
  },
  {
   "cell_type": "code",
   "execution_count": 191,
   "id": "7ce01f05",
   "metadata": {},
   "outputs": [],
   "source": [
    "class myRecall(tf.keras.metrics.Recall):\n",
    "    name=\"Recall_C\"\n",
    "    def update_state(self, y_true, y_pred, sample_weight=None):\n",
    "        y_true = tf.reshape(y_true, [-1])\n",
    "        y_pred = tf.argmax(y_pred,1)\n",
    "        return super(myRecall,self).update_state(y_true,y_pred,sample_weight)"
   ]
  },
  {
   "cell_type": "code",
   "execution_count": 192,
   "id": "272662e3",
   "metadata": {},
   "outputs": [],
   "source": [
    "class myPrecision(tf.keras.metrics.Precision):\n",
    "    name=\"Precision_C\"\n",
    "    def update_state(self, y_true, y_pred, sample_weight=None):\n",
    "        y_true = tf.reshape(y_true, [-1])\n",
    "        y_pred = tf.argmax(y_pred,1)\n",
    "        return super(myPrecision,self).update_state(y_true,y_pred,sample_weight)"
   ]
  },
  {
   "cell_type": "code",
   "execution_count": 231,
   "id": "84ea8151",
   "metadata": {},
   "outputs": [],
   "source": [
    "def iplot_curve(epochs,hist,list_of_metrics):\n",
    "    fig = go.Figure()\n",
    "    for m in list_of_metrics:\n",
    "        x = hist[m]\n",
    "        val_acc=hist[f'val_{m}']\n",
    "        \n",
    "        fig.add_trace(go.Scatter(x=epochs[1:],y=val_acc[1:],mode=\"lines\",name=f\"val_{m}\"))\n",
    "        fig.add_trace(go.Scatter(x=epochs[1:], y=x[1:],\n",
    "                    mode='lines',\n",
    "                    name=m))\n",
    "        fig.update_layout(title='Performance Metrics Evaluation',\n",
    "                   xaxis_title=\"Epochs\",\n",
    "                   yaxis_title='Value')\n",
    "    fig.show()"
   ]
  },
  {
   "cell_type": "code",
   "execution_count": 225,
   "id": "b7b62883",
   "metadata": {},
   "outputs": [
    {
     "name": "stdout",
     "output_type": "stream",
     "text": [
      "Loaded the plot_curve function.\n"
     ]
    }
   ],
   "source": [
    "def plot_curve(epochs, hist, list_of_metrics):\n",
    "  #\"\"\"Plot a curve of one or more classification metrics vs. epoch.\"\"\"  \n",
    "  # list_of_metrics should be one of the names shown in:\n",
    "  # https://www.tensorflow.org/tutorials/structured_data/imbalanced_data#define_the_model_and_metrics  \n",
    "\n",
    "    plt.figure()\n",
    "    plt.xlabel(\"Epoch\")\n",
    "    plt.ylabel(\"Value\")\n",
    "\n",
    "    for m in list_of_metrics:\n",
    "        x = hist[m]\n",
    "        val_acc=hist[f'val_{m}'] #i do want to add accuracy here\n",
    "        plt.plot(epochs[1:], x[1:], label=m)\n",
    "        plt.plot(epochs[1:],val_acc[1:],label=f\"val_{m}\")\n",
    "    plt.ylim(0.84,1.05)\n",
    "    plt.legend()\n",
    "\n",
    "print(\"Loaded the plot_curve function.\")"
   ]
  },
  {
   "cell_type": "code",
   "execution_count": 197,
   "id": "0b1baaf0",
   "metadata": {},
   "outputs": [
    {
     "name": "stdout",
     "output_type": "stream",
     "text": [
      "Model Created Successfully!\n"
     ]
    }
   ],
   "source": [
    "def create_model(my_learning_rate):\n",
    "  #\"\"\"Create and compile a deep neural net.\"\"\"\n",
    "  \n",
    "  # All models in this course are sequential.\n",
    "    model = tf.keras.models.Sequential()\n",
    "\n",
    "  # The features are stored in a two-dimensional 28X28 array. \n",
    "  # Flatten that two-dimensional array into a one-dimensional \n",
    "  # 784-element array.\n",
    "    model.add(tf.keras.layers.Flatten(input_shape=(28, 28)))\n",
    "\n",
    "  # Define the first hidden layer.   \n",
    "    model.add(tf.keras.layers.Dense(units=256, activation='relu'))\n",
    "  \n",
    "  # Define a dropout regularization layer. \n",
    "    model.add(tf.keras.layers.Dropout(rate=0.2))\n",
    "    \n",
    "    model.add(tf.keras.layers.Dense(units=128, activation='relu'))\n",
    "    model.add(tf.keras.layers.Dropout(rate=0.2))\n",
    "\n",
    "  # Define the output layer. The units parameter is set to 10 because\n",
    "  # the model must choose among 10 possible output values (representing\n",
    "  # the digits from 0 to 9, inclusive).\n",
    "  #\n",
    "  # Don't change this layer.\n",
    "    model.add(tf.keras.layers.Dense(units=10, activation='softmax'))     \n",
    "                           \n",
    "  # Construct the layers into a model that TensorFlow can execute.  \n",
    "  # Notice that the loss function for multi-class classification\n",
    "  # is different than the loss function for binary classification.  \n",
    "    model.compile(optimizer=tf.keras.optimizers.Adam(learning_rate=my_learning_rate),\n",
    "                loss=\"sparse_categorical_crossentropy\",\n",
    "                metrics=['accuracy',myPrecision(),myRecall()])\n",
    "  \n",
    "    return model    \n",
    "\n",
    "\n",
    "def train_model(model, train_features, train_label, epochs,\n",
    "                batch_size=None, validation_split=0.1):\n",
    "  #\"\"\"Train the model by feeding it data.\"\"\"\n",
    "\n",
    "    history = model.fit(x=train_features, y=train_label, batch_size=batch_size,\n",
    "                      epochs=epochs, shuffle=True, \n",
    "                      validation_split=validation_split)\n",
    " \n",
    "  # To track the progression of training, gather a snapshot\n",
    "  # of the model's metrics at each epoch. \n",
    "    epochs = history.epoch\n",
    "    hist = pd.DataFrame(history.history)\n",
    "\n",
    "    return epochs, hist    \n",
    "print(\"Model Created Successfully!\")"
   ]
  },
  {
   "cell_type": "code",
   "execution_count": 261,
   "id": "76be350c",
   "metadata": {},
   "outputs": [
    {
     "name": "stdout",
     "output_type": "stream",
     "text": [
      "Epoch 1/50\n",
      "12/12 [==============================] - 1s 41ms/step - loss: 1.0286 - accuracy: 0.6815 - Precision_C: 0.9788 - Recall_C: 0.9454 - val_loss: 0.3431 - val_accuracy: 0.8987 - val_Precision_C: 0.9944 - val_Recall_C: 0.9950\n",
      "Epoch 2/50\n",
      "12/12 [==============================] - 0s 25ms/step - loss: 0.3838 - accuracy: 0.8853 - Precision_C: 0.9936 - Recall_C: 0.9926 - val_loss: 0.2423 - val_accuracy: 0.9292 - val_Precision_C: 0.9969 - val_Recall_C: 0.9949\n",
      "Epoch 3/50\n",
      "12/12 [==============================] - 0s 25ms/step - loss: 0.2665 - accuracy: 0.9212 - Precision_C: 0.9960 - Recall_C: 0.9948 - val_loss: 0.1860 - val_accuracy: 0.9467 - val_Precision_C: 0.9973 - val_Recall_C: 0.9961\n",
      "Epoch 4/50\n",
      "12/12 [==============================] - 0s 25ms/step - loss: 0.2100 - accuracy: 0.9379 - Precision_C: 0.9968 - Recall_C: 0.9958 - val_loss: 0.1553 - val_accuracy: 0.9548 - val_Precision_C: 0.9978 - val_Recall_C: 0.9969\n",
      "Epoch 5/50\n",
      "12/12 [==============================] - 0s 25ms/step - loss: 0.1767 - accuracy: 0.9480 - Precision_C: 0.9975 - Recall_C: 0.9965 - val_loss: 0.1366 - val_accuracy: 0.9583 - val_Precision_C: 0.9981 - val_Recall_C: 0.9969\n",
      "Epoch 6/50\n",
      "12/12 [==============================] - 0s 26ms/step - loss: 0.1543 - accuracy: 0.9543 - Precision_C: 0.9978 - Recall_C: 0.9972 - val_loss: 0.1225 - val_accuracy: 0.9632 - val_Precision_C: 0.9984 - val_Recall_C: 0.9965\n",
      "Epoch 7/50\n",
      "12/12 [==============================] - 0s 25ms/step - loss: 0.1331 - accuracy: 0.9607 - Precision_C: 0.9978 - Recall_C: 0.9972 - val_loss: 0.1136 - val_accuracy: 0.9645 - val_Precision_C: 0.9983 - val_Recall_C: 0.9971\n",
      "Epoch 8/50\n",
      "12/12 [==============================] - 0s 26ms/step - loss: 0.1185 - accuracy: 0.9639 - Precision_C: 0.9981 - Recall_C: 0.9975 - val_loss: 0.1063 - val_accuracy: 0.9681 - val_Precision_C: 0.9982 - val_Recall_C: 0.9978\n",
      "Epoch 9/50\n",
      "12/12 [==============================] - 0s 26ms/step - loss: 0.1071 - accuracy: 0.9677 - Precision_C: 0.9984 - Recall_C: 0.9976 - val_loss: 0.1009 - val_accuracy: 0.9690 - val_Precision_C: 0.9979 - val_Recall_C: 0.9983\n",
      "Epoch 10/50\n",
      "12/12 [==============================] - 0s 27ms/step - loss: 0.0975 - accuracy: 0.9703 - Precision_C: 0.9986 - Recall_C: 0.9979 - val_loss: 0.0949 - val_accuracy: 0.9714 - val_Precision_C: 0.9982 - val_Recall_C: 0.9981\n",
      "Epoch 11/50\n",
      "12/12 [==============================] - 0s 26ms/step - loss: 0.0861 - accuracy: 0.9743 - Precision_C: 0.9985 - Recall_C: 0.9983 - val_loss: 0.0899 - val_accuracy: 0.9718 - val_Precision_C: 0.9985 - val_Recall_C: 0.9979\n",
      "Epoch 12/50\n",
      "12/12 [==============================] - 0s 26ms/step - loss: 0.0789 - accuracy: 0.9763 - Precision_C: 0.9988 - Recall_C: 0.9984 - val_loss: 0.0904 - val_accuracy: 0.9729 - val_Precision_C: 0.9985 - val_Recall_C: 0.9979\n",
      "Epoch 13/50\n",
      "12/12 [==============================] - 0s 25ms/step - loss: 0.0727 - accuracy: 0.9774 - Precision_C: 0.9987 - Recall_C: 0.9984 - val_loss: 0.0848 - val_accuracy: 0.9743 - val_Precision_C: 0.9982 - val_Recall_C: 0.9984\n",
      "Epoch 14/50\n",
      "12/12 [==============================] - 0s 26ms/step - loss: 0.0662 - accuracy: 0.9797 - Precision_C: 0.9988 - Recall_C: 0.9986 - val_loss: 0.0814 - val_accuracy: 0.9751 - val_Precision_C: 0.9984 - val_Recall_C: 0.9986\n",
      "Epoch 15/50\n",
      "12/12 [==============================] - 0s 25ms/step - loss: 0.0611 - accuracy: 0.9814 - Precision_C: 0.9991 - Recall_C: 0.9986 - val_loss: 0.0805 - val_accuracy: 0.9747 - val_Precision_C: 0.9986 - val_Recall_C: 0.9980\n",
      "Epoch 16/50\n",
      "12/12 [==============================] - 0s 25ms/step - loss: 0.0563 - accuracy: 0.9829 - Precision_C: 0.9988 - Recall_C: 0.9988 - val_loss: 0.0800 - val_accuracy: 0.9753 - val_Precision_C: 0.9986 - val_Recall_C: 0.9979\n",
      "Epoch 17/50\n",
      "12/12 [==============================] - 0s 26ms/step - loss: 0.0506 - accuracy: 0.9841 - Precision_C: 0.9991 - Recall_C: 0.9987 - val_loss: 0.0813 - val_accuracy: 0.9745 - val_Precision_C: 0.9988 - val_Recall_C: 0.9977\n",
      "Epoch 18/50\n",
      "12/12 [==============================] - 0s 26ms/step - loss: 0.0496 - accuracy: 0.9847 - Precision_C: 0.9992 - Recall_C: 0.9988 - val_loss: 0.0778 - val_accuracy: 0.9771 - val_Precision_C: 0.9989 - val_Recall_C: 0.9975\n",
      "Epoch 19/50\n",
      "12/12 [==============================] - 0s 26ms/step - loss: 0.0454 - accuracy: 0.9859 - Precision_C: 0.9992 - Recall_C: 0.9991 - val_loss: 0.0783 - val_accuracy: 0.9775 - val_Precision_C: 0.9991 - val_Recall_C: 0.9977\n",
      "Epoch 20/50\n",
      "12/12 [==============================] - 0s 26ms/step - loss: 0.0417 - accuracy: 0.9874 - Precision_C: 0.9992 - Recall_C: 0.9991 - val_loss: 0.0764 - val_accuracy: 0.9776 - val_Precision_C: 0.9987 - val_Recall_C: 0.9982\n",
      "Epoch 21/50\n",
      "12/12 [==============================] - 0s 25ms/step - loss: 0.0399 - accuracy: 0.9877 - Precision_C: 0.9992 - Recall_C: 0.9991 - val_loss: 0.0765 - val_accuracy: 0.9777 - val_Precision_C: 0.9989 - val_Recall_C: 0.9980\n",
      "Epoch 22/50\n",
      "12/12 [==============================] - 0s 26ms/step - loss: 0.0373 - accuracy: 0.9887 - Precision_C: 0.9994 - Recall_C: 0.9993 - val_loss: 0.0747 - val_accuracy: 0.9786 - val_Precision_C: 0.9988 - val_Recall_C: 0.9983\n",
      "Epoch 23/50\n",
      "12/12 [==============================] - 0s 26ms/step - loss: 0.0351 - accuracy: 0.9893 - Precision_C: 0.9995 - Recall_C: 0.9991 - val_loss: 0.0744 - val_accuracy: 0.9789 - val_Precision_C: 0.9987 - val_Recall_C: 0.9983\n",
      "Epoch 24/50\n",
      "12/12 [==============================] - 0s 25ms/step - loss: 0.0324 - accuracy: 0.9900 - Precision_C: 0.9994 - Recall_C: 0.9992 - val_loss: 0.0764 - val_accuracy: 0.9784 - val_Precision_C: 0.9988 - val_Recall_C: 0.9983\n",
      "Epoch 25/50\n",
      "12/12 [==============================] - 0s 26ms/step - loss: 0.0303 - accuracy: 0.9906 - Precision_C: 0.9995 - Recall_C: 0.9992 - val_loss: 0.0761 - val_accuracy: 0.9792 - val_Precision_C: 0.9984 - val_Recall_C: 0.9985\n",
      "Epoch 26/50\n",
      "12/12 [==============================] - 0s 27ms/step - loss: 0.0288 - accuracy: 0.9910 - Precision_C: 0.9995 - Recall_C: 0.9995 - val_loss: 0.0753 - val_accuracy: 0.9791 - val_Precision_C: 0.9988 - val_Recall_C: 0.9981\n",
      "Epoch 27/50\n",
      "12/12 [==============================] - 0s 25ms/step - loss: 0.0275 - accuracy: 0.9916 - Precision_C: 0.9995 - Recall_C: 0.9996 - val_loss: 0.0774 - val_accuracy: 0.9779 - val_Precision_C: 0.9989 - val_Recall_C: 0.9981\n",
      "Epoch 28/50\n",
      "12/12 [==============================] - 0s 25ms/step - loss: 0.0263 - accuracy: 0.9914 - Precision_C: 0.9997 - Recall_C: 0.9994 - val_loss: 0.0782 - val_accuracy: 0.9785 - val_Precision_C: 0.9986 - val_Recall_C: 0.9979\n",
      "Epoch 29/50\n",
      "12/12 [==============================] - 0s 26ms/step - loss: 0.0231 - accuracy: 0.9926 - Precision_C: 0.9995 - Recall_C: 0.9995 - val_loss: 0.0768 - val_accuracy: 0.9797 - val_Precision_C: 0.9987 - val_Recall_C: 0.9983\n",
      "Epoch 30/50\n",
      "12/12 [==============================] - 0s 27ms/step - loss: 0.0221 - accuracy: 0.9933 - Precision_C: 0.9997 - Recall_C: 0.9994 - val_loss: 0.0774 - val_accuracy: 0.9790 - val_Precision_C: 0.9988 - val_Recall_C: 0.9982\n",
      "Epoch 31/50\n",
      "12/12 [==============================] - 0s 26ms/step - loss: 0.0210 - accuracy: 0.9933 - Precision_C: 0.9998 - Recall_C: 0.9995 - val_loss: 0.0747 - val_accuracy: 0.9802 - val_Precision_C: 0.9988 - val_Recall_C: 0.9981\n",
      "Epoch 32/50\n",
      "12/12 [==============================] - 0s 25ms/step - loss: 0.0211 - accuracy: 0.9930 - Precision_C: 0.9996 - Recall_C: 0.9995 - val_loss: 0.0771 - val_accuracy: 0.9789 - val_Precision_C: 0.9988 - val_Recall_C: 0.9978\n",
      "Epoch 33/50\n",
      "12/12 [==============================] - 0s 25ms/step - loss: 0.0197 - accuracy: 0.9935 - Precision_C: 0.9994 - Recall_C: 0.9995 - val_loss: 0.0784 - val_accuracy: 0.9797 - val_Precision_C: 0.9990 - val_Recall_C: 0.9976\n",
      "Epoch 34/50\n",
      "12/12 [==============================] - 0s 25ms/step - loss: 0.0183 - accuracy: 0.9942 - Precision_C: 0.9998 - Recall_C: 0.9996 - val_loss: 0.0793 - val_accuracy: 0.9795 - val_Precision_C: 0.9986 - val_Recall_C: 0.9981\n",
      "Epoch 35/50\n",
      "12/12 [==============================] - 0s 25ms/step - loss: 0.0170 - accuracy: 0.9945 - Precision_C: 0.9996 - Recall_C: 0.9997 - val_loss: 0.0789 - val_accuracy: 0.9788 - val_Precision_C: 0.9987 - val_Recall_C: 0.9980\n",
      "Epoch 36/50\n"
     ]
    },
    {
     "name": "stdout",
     "output_type": "stream",
     "text": [
      "12/12 [==============================] - 0s 25ms/step - loss: 0.0171 - accuracy: 0.9945 - Precision_C: 0.9996 - Recall_C: 0.9997 - val_loss: 0.0803 - val_accuracy: 0.9801 - val_Precision_C: 0.9986 - val_Recall_C: 0.9984\n",
      "Epoch 37/50\n",
      "12/12 [==============================] - 0s 26ms/step - loss: 0.0165 - accuracy: 0.9948 - Precision_C: 0.9998 - Recall_C: 0.9997 - val_loss: 0.0795 - val_accuracy: 0.9794 - val_Precision_C: 0.9986 - val_Recall_C: 0.9982\n",
      "Epoch 38/50\n",
      "12/12 [==============================] - 0s 27ms/step - loss: 0.0153 - accuracy: 0.9951 - Precision_C: 0.9998 - Recall_C: 0.9997 - val_loss: 0.0796 - val_accuracy: 0.9802 - val_Precision_C: 0.9987 - val_Recall_C: 0.9987\n",
      "Epoch 39/50\n",
      "12/12 [==============================] - 0s 27ms/step - loss: 0.0157 - accuracy: 0.9951 - Precision_C: 0.9996 - Recall_C: 0.9997 - val_loss: 0.0800 - val_accuracy: 0.9797 - val_Precision_C: 0.9984 - val_Recall_C: 0.9985\n",
      "Epoch 40/50\n",
      "12/12 [==============================] - 0s 27ms/step - loss: 0.0151 - accuracy: 0.9951 - Precision_C: 0.9997 - Recall_C: 0.9997 - val_loss: 0.0787 - val_accuracy: 0.9806 - val_Precision_C: 0.9986 - val_Recall_C: 0.9981\n",
      "Epoch 41/50\n",
      "12/12 [==============================] - 0s 28ms/step - loss: 0.0149 - accuracy: 0.9952 - Precision_C: 0.9997 - Recall_C: 0.9997 - val_loss: 0.0820 - val_accuracy: 0.9797 - val_Precision_C: 0.9983 - val_Recall_C: 0.9984\n",
      "Epoch 42/50\n",
      "12/12 [==============================] - 0s 28ms/step - loss: 0.0130 - accuracy: 0.9963 - Precision_C: 0.9997 - Recall_C: 0.9998 - val_loss: 0.0829 - val_accuracy: 0.9805 - val_Precision_C: 0.9988 - val_Recall_C: 0.9980\n",
      "Epoch 43/50\n",
      "12/12 [==============================] - 0s 26ms/step - loss: 0.0121 - accuracy: 0.9962 - Precision_C: 0.9997 - Recall_C: 0.9997 - val_loss: 0.0796 - val_accuracy: 0.9805 - val_Precision_C: 0.9986 - val_Recall_C: 0.9983\n",
      "Epoch 44/50\n",
      "12/12 [==============================] - 0s 26ms/step - loss: 0.0119 - accuracy: 0.9964 - Precision_C: 0.9998 - Recall_C: 0.9997 - val_loss: 0.0800 - val_accuracy: 0.9810 - val_Precision_C: 0.9987 - val_Recall_C: 0.9985\n",
      "Epoch 45/50\n",
      "12/12 [==============================] - 0s 26ms/step - loss: 0.0122 - accuracy: 0.9961 - Precision_C: 0.9997 - Recall_C: 0.9998 - val_loss: 0.0832 - val_accuracy: 0.9808 - val_Precision_C: 0.9986 - val_Recall_C: 0.9982\n",
      "Epoch 46/50\n",
      "12/12 [==============================] - 0s 26ms/step - loss: 0.0114 - accuracy: 0.9964 - Precision_C: 0.9998 - Recall_C: 0.9997 - val_loss: 0.0821 - val_accuracy: 0.9810 - val_Precision_C: 0.9987 - val_Recall_C: 0.9981\n",
      "Epoch 47/50\n",
      "12/12 [==============================] - 0s 26ms/step - loss: 0.0115 - accuracy: 0.9964 - Precision_C: 0.9997 - Recall_C: 0.9997 - val_loss: 0.0866 - val_accuracy: 0.9800 - val_Precision_C: 0.9987 - val_Recall_C: 0.9982\n",
      "Epoch 48/50\n",
      "12/12 [==============================] - 0s 26ms/step - loss: 0.0107 - accuracy: 0.9964 - Precision_C: 0.9999 - Recall_C: 0.9998 - val_loss: 0.0829 - val_accuracy: 0.9810 - val_Precision_C: 0.9981 - val_Recall_C: 0.9983\n",
      "Epoch 49/50\n",
      "12/12 [==============================] - 0s 25ms/step - loss: 0.0104 - accuracy: 0.9968 - Precision_C: 0.9998 - Recall_C: 0.9998 - val_loss: 0.0836 - val_accuracy: 0.9808 - val_Precision_C: 0.9990 - val_Recall_C: 0.9980\n",
      "Epoch 50/50\n",
      "12/12 [==============================] - 0s 25ms/step - loss: 0.0104 - accuracy: 0.9966 - Precision_C: 0.9999 - Recall_C: 0.9998 - val_loss: 0.0820 - val_accuracy: 0.9808 - val_Precision_C: 0.9985 - val_Recall_C: 0.9985\n"
     ]
    },
    {
     "data": {
      "application/vnd.plotly.v1+json": {
       "config": {
        "plotlyServerURL": "https://plot.ly"
       },
       "data": [
        {
         "mode": "lines",
         "name": "val_accuracy",
         "type": "scatter",
         "x": [
          1,
          2,
          3,
          4,
          5,
          6,
          7,
          8,
          9,
          10,
          11,
          12,
          13,
          14,
          15,
          16,
          17,
          18,
          19,
          20,
          21,
          22,
          23,
          24,
          25,
          26,
          27,
          28,
          29,
          30,
          31,
          32,
          33,
          34,
          35,
          36,
          37,
          38,
          39,
          40,
          41,
          42,
          43,
          44,
          45,
          46,
          47,
          48,
          49
         ],
         "y": [
          0.9291666746139526,
          0.9467499852180481,
          0.9548333287239075,
          0.9583333134651184,
          0.9632499814033508,
          0.9645000100135803,
          0.9680833220481873,
          0.968999981880188,
          0.9714166522026062,
          0.971833348274231,
          0.9729166626930237,
          0.9742500185966492,
          0.9750833511352539,
          0.9746666550636292,
          0.9753333330154419,
          0.9745000004768372,
          0.9770833253860474,
          0.9775000214576721,
          0.9775833487510681,
          0.9776666760444641,
          0.9785833358764648,
          0.9789166450500488,
          0.9784166812896729,
          0.9791666865348816,
          0.9790833592414856,
          0.9779166579246521,
          0.9785000085830688,
          0.9796666502952576,
          0.9789999723434448,
          0.9801666736602783,
          0.9789166450500488,
          0.9796666502952576,
          0.9794999957084656,
          0.9788333177566528,
          0.9800833463668823,
          0.9794166684150696,
          0.9801666736602783,
          0.9797499775886536,
          0.9805833101272583,
          0.9797499775886536,
          0.9804999828338623,
          0.9804999828338623,
          0.9810000061988831,
          0.9808333516120911,
          0.9810000061988831,
          0.9800000190734863,
          0.9810000061988831,
          0.9807500243186951,
          0.9808333516120911
         ]
        },
        {
         "mode": "lines",
         "name": "accuracy",
         "type": "scatter",
         "x": [
          1,
          2,
          3,
          4,
          5,
          6,
          7,
          8,
          9,
          10,
          11,
          12,
          13,
          14,
          15,
          16,
          17,
          18,
          19,
          20,
          21,
          22,
          23,
          24,
          25,
          26,
          27,
          28,
          29,
          30,
          31,
          32,
          33,
          34,
          35,
          36,
          37,
          38,
          39,
          40,
          41,
          42,
          43,
          44,
          45,
          46,
          47,
          48,
          49
         ],
         "y": [
          0.8853124976158142,
          0.9212291836738586,
          0.9379166960716248,
          0.9480208158493042,
          0.9542708396911621,
          0.960687518119812,
          0.963937520980835,
          0.9677083492279053,
          0.9702708125114441,
          0.9742500185966492,
          0.976270854473114,
          0.9774166941642761,
          0.979687511920929,
          0.9813958406448364,
          0.9828958511352539,
          0.9841458201408386,
          0.9846875071525574,
          0.9859374761581421,
          0.9873541593551636,
          0.987666666507721,
          0.9886666536331177,
          0.9893125295639038,
          0.9899791479110718,
          0.9905833601951599,
          0.9909999966621399,
          0.9915833473205566,
          0.9914166927337646,
          0.9925833344459534,
          0.9932916760444641,
          0.9933124780654907,
          0.9929583072662354,
          0.9935416579246521,
          0.9942291378974915,
          0.9944999814033508,
          0.9945416450500488,
          0.9948124885559082,
          0.9950833320617676,
          0.9950833320617676,
          0.995145857334137,
          0.9952083230018616,
          0.9963124990463257,
          0.9962291717529297,
          0.9964166879653931,
          0.9961041808128357,
          0.9964166879653931,
          0.9963750243186951,
          0.9964166879653931,
          0.996833324432373,
          0.9966041445732117
         ]
        },
        {
         "mode": "lines",
         "name": "val_Precision_C",
         "type": "scatter",
         "x": [
          1,
          2,
          3,
          4,
          5,
          6,
          7,
          8,
          9,
          10,
          11,
          12,
          13,
          14,
          15,
          16,
          17,
          18,
          19,
          20,
          21,
          22,
          23,
          24,
          25,
          26,
          27,
          28,
          29,
          30,
          31,
          32,
          33,
          34,
          35,
          36,
          37,
          38,
          39,
          40,
          41,
          42,
          43,
          44,
          45,
          46,
          47,
          48,
          49
         ],
         "y": [
          0.9969398975372314,
          0.9973130822181702,
          0.9977769255638123,
          0.9980542659759521,
          0.9984237551689148,
          0.9983322620391846,
          0.9982408881187439,
          0.997872531414032,
          0.9982415437698364,
          0.9985184073448181,
          0.9985184073448181,
          0.9982420206069946,
          0.9984270930290222,
          0.9986109733581543,
          0.9986108541488647,
          0.9987956285476685,
          0.9988879561424255,
          0.999073326587677,
          0.9987038373947144,
          0.9988884925842285,
          0.9987964034080505,
          0.9987039566040039,
          0.9987964034080505,
          0.9984269738197327,
          0.9987961649894714,
          0.9988885521888733,
          0.9986108541488647,
          0.9987039566040039,
          0.998796284198761,
          0.9987961649894714,
          0.998795747756958,
          0.9989806413650513,
          0.9986112117767334,
          0.9987034797668457,
          0.9986116290092468,
          0.9986113905906677,
          0.9987044334411621,
          0.9984269738197327,
          0.9986110925674438,
          0.9983344078063965,
          0.9987959861755371,
          0.9986115097999573,
          0.998704195022583,
          0.9986113905906677,
          0.9987037181854248,
          0.9987038373947144,
          0.9981495141983032,
          0.9989809989929199,
          0.9985193610191345
         ]
        },
        {
         "mode": "lines",
         "name": "Precision_C",
         "type": "scatter",
         "x": [
          1,
          2,
          3,
          4,
          5,
          6,
          7,
          8,
          9,
          10,
          11,
          12,
          13,
          14,
          15,
          16,
          17,
          18,
          19,
          20,
          21,
          22,
          23,
          24,
          25,
          26,
          27,
          28,
          29,
          30,
          31,
          32,
          33,
          34,
          35,
          36,
          37,
          38,
          39,
          40,
          41,
          42,
          43,
          44,
          45,
          46,
          47,
          48,
          49
         ],
         "y": [
          0.993591845035553,
          0.9959973096847534,
          0.9967614412307739,
          0.9975016117095947,
          0.997757077217102,
          0.9978494644165039,
          0.9981038570404053,
          0.9984272122383118,
          0.9986123442649841,
          0.9985437393188477,
          0.9987747073173523,
          0.9987053871154785,
          0.9987980127334595,
          0.9990520477294922,
          0.9988445043563843,
          0.9990983009338379,
          0.9991677403450012,
          0.9992141127586365,
          0.9992372393608093,
          0.9991680383682251,
          0.9993759393692017,
          0.9995375871658325,
          0.9994452595710754,
          0.9995145201683044,
          0.9994915723800659,
          0.9995378255844116,
          0.9996532797813416,
          0.9995377659797668,
          0.9996764063835144,
          0.999768853187561,
          0.9995608925819397,
          0.9994222521781921,
          0.9997919797897339,
          0.9996302723884583,
          0.9996071457862854,
          0.999768853187561,
          0.9997919797897339,
          0.9996302723884583,
          0.999745786190033,
          0.999745786190033,
          0.9997227191925049,
          0.9996533393859863,
          0.9997919797897339,
          0.9996764659881592,
          0.9997919797897339,
          0.999745786190033,
          0.9998612999916077,
          0.9997689127922058,
          0.9998613595962524
         ]
        },
        {
         "mode": "lines",
         "name": "val_Recall_C",
         "type": "scatter",
         "x": [
          1,
          2,
          3,
          4,
          5,
          6,
          7,
          8,
          9,
          10,
          11,
          12,
          13,
          14,
          15,
          16,
          17,
          18,
          19,
          20,
          21,
          22,
          23,
          24,
          25,
          26,
          27,
          28,
          29,
          30,
          31,
          32,
          33,
          34,
          35,
          36,
          37,
          38,
          39,
          40,
          41,
          42,
          43,
          44,
          45,
          46,
          47,
          48,
          49
         ],
         "y": [
          0.9949102401733398,
          0.9961132407188416,
          0.9968535900115967,
          0.9968535900115967,
          0.9964834451675415,
          0.9971312284469604,
          0.9977790117263794,
          0.9983342289924622,
          0.9981491565704346,
          0.9978715777397156,
          0.9978715777397156,
          0.9984267950057983,
          0.9986118674278259,
          0.997964084148407,
          0.9978715777397156,
          0.9976864457130432,
          0.9975013732910156,
          0.9976864457130432,
          0.9982417225837708,
          0.997964084148407,
          0.9983342289924622,
          0.9983342289924622,
          0.9983342289924622,
          0.9985193610191345,
          0.9981491565704346,
          0.9980566501617432,
          0.9978715777397156,
          0.9983342289924622,
          0.9982417225837708,
          0.9981491565704346,
          0.9977790117263794,
          0.9975939393043518,
          0.9981491565704346,
          0.997964084148407,
          0.9984267950057983,
          0.9982417225837708,
          0.9987044334411621,
          0.9985193610191345,
          0.9980566501617432,
          0.9984267950057983,
          0.997964084148407,
          0.9983342289924622,
          0.9985193610191345,
          0.9982417225837708,
          0.9981491565704346,
          0.9982417225837708,
          0.9983342289924622,
          0.997964084148407,
          0.9985193610191345
         ]
        },
        {
         "mode": "lines",
         "name": "Recall_C",
         "type": "scatter",
         "x": [
          1,
          2,
          3,
          4,
          5,
          6,
          7,
          8,
          9,
          10,
          11,
          12,
          13,
          14,
          15,
          16,
          17,
          18,
          19,
          20,
          21,
          22,
          23,
          24,
          25,
          26,
          27,
          28,
          29,
          30,
          31,
          32,
          33,
          34,
          35,
          36,
          37,
          38,
          39,
          40,
          41,
          42,
          43,
          44,
          45,
          46,
          47,
          48,
          49
         ],
         "y": [
          0.9925585389137268,
          0.9948464035987854,
          0.9957939386367798,
          0.99651038646698,
          0.9972036480903625,
          0.9972499012947083,
          0.9975272417068481,
          0.99761962890625,
          0.997873842716217,
          0.9983129501342773,
          0.998405396938324,
          0.998359203338623,
          0.9985902905464172,
          0.9985671639442444,
          0.9988445043563843,
          0.9986827373504639,
          0.9988213777542114,
          0.9990524649620056,
          0.9990524649620056,
          0.9991449117660522,
          0.9992836117744446,
          0.9990987181663513,
          0.9992373585700989,
          0.999191164970398,
          0.9995146989822388,
          0.9996302127838135,
          0.9994222521781921,
          0.9994684457778931,
          0.999445378780365,
          0.9995378255844116,
          0.9995378255844116,
          0.9994684457778931,
          0.9996302127838135,
          0.9996764659881592,
          0.999699592590332,
          0.999699592590332,
          0.999699592590332,
          0.9996764659881592,
          0.9996764659881592,
          0.9996533393859863,
          0.9997919797897339,
          0.9996764659881592,
          0.999699592590332,
          0.9997919797897339,
          0.999745786190033,
          0.999745786190033,
          0.9997689127922058,
          0.9997919797897339,
          0.9998382329940796
         ]
        }
       ],
       "layout": {
        "template": {
         "data": {
          "bar": [
           {
            "error_x": {
             "color": "#2a3f5f"
            },
            "error_y": {
             "color": "#2a3f5f"
            },
            "marker": {
             "line": {
              "color": "#E5ECF6",
              "width": 0.5
             },
             "pattern": {
              "fillmode": "overlay",
              "size": 10,
              "solidity": 0.2
             }
            },
            "type": "bar"
           }
          ],
          "barpolar": [
           {
            "marker": {
             "line": {
              "color": "#E5ECF6",
              "width": 0.5
             },
             "pattern": {
              "fillmode": "overlay",
              "size": 10,
              "solidity": 0.2
             }
            },
            "type": "barpolar"
           }
          ],
          "carpet": [
           {
            "aaxis": {
             "endlinecolor": "#2a3f5f",
             "gridcolor": "white",
             "linecolor": "white",
             "minorgridcolor": "white",
             "startlinecolor": "#2a3f5f"
            },
            "baxis": {
             "endlinecolor": "#2a3f5f",
             "gridcolor": "white",
             "linecolor": "white",
             "minorgridcolor": "white",
             "startlinecolor": "#2a3f5f"
            },
            "type": "carpet"
           }
          ],
          "choropleth": [
           {
            "colorbar": {
             "outlinewidth": 0,
             "ticks": ""
            },
            "type": "choropleth"
           }
          ],
          "contour": [
           {
            "colorbar": {
             "outlinewidth": 0,
             "ticks": ""
            },
            "colorscale": [
             [
              0,
              "#0d0887"
             ],
             [
              0.1111111111111111,
              "#46039f"
             ],
             [
              0.2222222222222222,
              "#7201a8"
             ],
             [
              0.3333333333333333,
              "#9c179e"
             ],
             [
              0.4444444444444444,
              "#bd3786"
             ],
             [
              0.5555555555555556,
              "#d8576b"
             ],
             [
              0.6666666666666666,
              "#ed7953"
             ],
             [
              0.7777777777777778,
              "#fb9f3a"
             ],
             [
              0.8888888888888888,
              "#fdca26"
             ],
             [
              1,
              "#f0f921"
             ]
            ],
            "type": "contour"
           }
          ],
          "contourcarpet": [
           {
            "colorbar": {
             "outlinewidth": 0,
             "ticks": ""
            },
            "type": "contourcarpet"
           }
          ],
          "heatmap": [
           {
            "colorbar": {
             "outlinewidth": 0,
             "ticks": ""
            },
            "colorscale": [
             [
              0,
              "#0d0887"
             ],
             [
              0.1111111111111111,
              "#46039f"
             ],
             [
              0.2222222222222222,
              "#7201a8"
             ],
             [
              0.3333333333333333,
              "#9c179e"
             ],
             [
              0.4444444444444444,
              "#bd3786"
             ],
             [
              0.5555555555555556,
              "#d8576b"
             ],
             [
              0.6666666666666666,
              "#ed7953"
             ],
             [
              0.7777777777777778,
              "#fb9f3a"
             ],
             [
              0.8888888888888888,
              "#fdca26"
             ],
             [
              1,
              "#f0f921"
             ]
            ],
            "type": "heatmap"
           }
          ],
          "heatmapgl": [
           {
            "colorbar": {
             "outlinewidth": 0,
             "ticks": ""
            },
            "colorscale": [
             [
              0,
              "#0d0887"
             ],
             [
              0.1111111111111111,
              "#46039f"
             ],
             [
              0.2222222222222222,
              "#7201a8"
             ],
             [
              0.3333333333333333,
              "#9c179e"
             ],
             [
              0.4444444444444444,
              "#bd3786"
             ],
             [
              0.5555555555555556,
              "#d8576b"
             ],
             [
              0.6666666666666666,
              "#ed7953"
             ],
             [
              0.7777777777777778,
              "#fb9f3a"
             ],
             [
              0.8888888888888888,
              "#fdca26"
             ],
             [
              1,
              "#f0f921"
             ]
            ],
            "type": "heatmapgl"
           }
          ],
          "histogram": [
           {
            "marker": {
             "pattern": {
              "fillmode": "overlay",
              "size": 10,
              "solidity": 0.2
             }
            },
            "type": "histogram"
           }
          ],
          "histogram2d": [
           {
            "colorbar": {
             "outlinewidth": 0,
             "ticks": ""
            },
            "colorscale": [
             [
              0,
              "#0d0887"
             ],
             [
              0.1111111111111111,
              "#46039f"
             ],
             [
              0.2222222222222222,
              "#7201a8"
             ],
             [
              0.3333333333333333,
              "#9c179e"
             ],
             [
              0.4444444444444444,
              "#bd3786"
             ],
             [
              0.5555555555555556,
              "#d8576b"
             ],
             [
              0.6666666666666666,
              "#ed7953"
             ],
             [
              0.7777777777777778,
              "#fb9f3a"
             ],
             [
              0.8888888888888888,
              "#fdca26"
             ],
             [
              1,
              "#f0f921"
             ]
            ],
            "type": "histogram2d"
           }
          ],
          "histogram2dcontour": [
           {
            "colorbar": {
             "outlinewidth": 0,
             "ticks": ""
            },
            "colorscale": [
             [
              0,
              "#0d0887"
             ],
             [
              0.1111111111111111,
              "#46039f"
             ],
             [
              0.2222222222222222,
              "#7201a8"
             ],
             [
              0.3333333333333333,
              "#9c179e"
             ],
             [
              0.4444444444444444,
              "#bd3786"
             ],
             [
              0.5555555555555556,
              "#d8576b"
             ],
             [
              0.6666666666666666,
              "#ed7953"
             ],
             [
              0.7777777777777778,
              "#fb9f3a"
             ],
             [
              0.8888888888888888,
              "#fdca26"
             ],
             [
              1,
              "#f0f921"
             ]
            ],
            "type": "histogram2dcontour"
           }
          ],
          "mesh3d": [
           {
            "colorbar": {
             "outlinewidth": 0,
             "ticks": ""
            },
            "type": "mesh3d"
           }
          ],
          "parcoords": [
           {
            "line": {
             "colorbar": {
              "outlinewidth": 0,
              "ticks": ""
             }
            },
            "type": "parcoords"
           }
          ],
          "pie": [
           {
            "automargin": true,
            "type": "pie"
           }
          ],
          "scatter": [
           {
            "fillpattern": {
             "fillmode": "overlay",
             "size": 10,
             "solidity": 0.2
            },
            "type": "scatter"
           }
          ],
          "scatter3d": [
           {
            "line": {
             "colorbar": {
              "outlinewidth": 0,
              "ticks": ""
             }
            },
            "marker": {
             "colorbar": {
              "outlinewidth": 0,
              "ticks": ""
             }
            },
            "type": "scatter3d"
           }
          ],
          "scattercarpet": [
           {
            "marker": {
             "colorbar": {
              "outlinewidth": 0,
              "ticks": ""
             }
            },
            "type": "scattercarpet"
           }
          ],
          "scattergeo": [
           {
            "marker": {
             "colorbar": {
              "outlinewidth": 0,
              "ticks": ""
             }
            },
            "type": "scattergeo"
           }
          ],
          "scattergl": [
           {
            "marker": {
             "colorbar": {
              "outlinewidth": 0,
              "ticks": ""
             }
            },
            "type": "scattergl"
           }
          ],
          "scattermapbox": [
           {
            "marker": {
             "colorbar": {
              "outlinewidth": 0,
              "ticks": ""
             }
            },
            "type": "scattermapbox"
           }
          ],
          "scatterpolar": [
           {
            "marker": {
             "colorbar": {
              "outlinewidth": 0,
              "ticks": ""
             }
            },
            "type": "scatterpolar"
           }
          ],
          "scatterpolargl": [
           {
            "marker": {
             "colorbar": {
              "outlinewidth": 0,
              "ticks": ""
             }
            },
            "type": "scatterpolargl"
           }
          ],
          "scatterternary": [
           {
            "marker": {
             "colorbar": {
              "outlinewidth": 0,
              "ticks": ""
             }
            },
            "type": "scatterternary"
           }
          ],
          "surface": [
           {
            "colorbar": {
             "outlinewidth": 0,
             "ticks": ""
            },
            "colorscale": [
             [
              0,
              "#0d0887"
             ],
             [
              0.1111111111111111,
              "#46039f"
             ],
             [
              0.2222222222222222,
              "#7201a8"
             ],
             [
              0.3333333333333333,
              "#9c179e"
             ],
             [
              0.4444444444444444,
              "#bd3786"
             ],
             [
              0.5555555555555556,
              "#d8576b"
             ],
             [
              0.6666666666666666,
              "#ed7953"
             ],
             [
              0.7777777777777778,
              "#fb9f3a"
             ],
             [
              0.8888888888888888,
              "#fdca26"
             ],
             [
              1,
              "#f0f921"
             ]
            ],
            "type": "surface"
           }
          ],
          "table": [
           {
            "cells": {
             "fill": {
              "color": "#EBF0F8"
             },
             "line": {
              "color": "white"
             }
            },
            "header": {
             "fill": {
              "color": "#C8D4E3"
             },
             "line": {
              "color": "white"
             }
            },
            "type": "table"
           }
          ]
         },
         "layout": {
          "annotationdefaults": {
           "arrowcolor": "#2a3f5f",
           "arrowhead": 0,
           "arrowwidth": 1
          },
          "autotypenumbers": "strict",
          "coloraxis": {
           "colorbar": {
            "outlinewidth": 0,
            "ticks": ""
           }
          },
          "colorscale": {
           "diverging": [
            [
             0,
             "#8e0152"
            ],
            [
             0.1,
             "#c51b7d"
            ],
            [
             0.2,
             "#de77ae"
            ],
            [
             0.3,
             "#f1b6da"
            ],
            [
             0.4,
             "#fde0ef"
            ],
            [
             0.5,
             "#f7f7f7"
            ],
            [
             0.6,
             "#e6f5d0"
            ],
            [
             0.7,
             "#b8e186"
            ],
            [
             0.8,
             "#7fbc41"
            ],
            [
             0.9,
             "#4d9221"
            ],
            [
             1,
             "#276419"
            ]
           ],
           "sequential": [
            [
             0,
             "#0d0887"
            ],
            [
             0.1111111111111111,
             "#46039f"
            ],
            [
             0.2222222222222222,
             "#7201a8"
            ],
            [
             0.3333333333333333,
             "#9c179e"
            ],
            [
             0.4444444444444444,
             "#bd3786"
            ],
            [
             0.5555555555555556,
             "#d8576b"
            ],
            [
             0.6666666666666666,
             "#ed7953"
            ],
            [
             0.7777777777777778,
             "#fb9f3a"
            ],
            [
             0.8888888888888888,
             "#fdca26"
            ],
            [
             1,
             "#f0f921"
            ]
           ],
           "sequentialminus": [
            [
             0,
             "#0d0887"
            ],
            [
             0.1111111111111111,
             "#46039f"
            ],
            [
             0.2222222222222222,
             "#7201a8"
            ],
            [
             0.3333333333333333,
             "#9c179e"
            ],
            [
             0.4444444444444444,
             "#bd3786"
            ],
            [
             0.5555555555555556,
             "#d8576b"
            ],
            [
             0.6666666666666666,
             "#ed7953"
            ],
            [
             0.7777777777777778,
             "#fb9f3a"
            ],
            [
             0.8888888888888888,
             "#fdca26"
            ],
            [
             1,
             "#f0f921"
            ]
           ]
          },
          "colorway": [
           "#636efa",
           "#EF553B",
           "#00cc96",
           "#ab63fa",
           "#FFA15A",
           "#19d3f3",
           "#FF6692",
           "#B6E880",
           "#FF97FF",
           "#FECB52"
          ],
          "font": {
           "color": "#2a3f5f"
          },
          "geo": {
           "bgcolor": "white",
           "lakecolor": "white",
           "landcolor": "#E5ECF6",
           "showlakes": true,
           "showland": true,
           "subunitcolor": "white"
          },
          "hoverlabel": {
           "align": "left"
          },
          "hovermode": "closest",
          "mapbox": {
           "style": "light"
          },
          "paper_bgcolor": "white",
          "plot_bgcolor": "#E5ECF6",
          "polar": {
           "angularaxis": {
            "gridcolor": "white",
            "linecolor": "white",
            "ticks": ""
           },
           "bgcolor": "#E5ECF6",
           "radialaxis": {
            "gridcolor": "white",
            "linecolor": "white",
            "ticks": ""
           }
          },
          "scene": {
           "xaxis": {
            "backgroundcolor": "#E5ECF6",
            "gridcolor": "white",
            "gridwidth": 2,
            "linecolor": "white",
            "showbackground": true,
            "ticks": "",
            "zerolinecolor": "white"
           },
           "yaxis": {
            "backgroundcolor": "#E5ECF6",
            "gridcolor": "white",
            "gridwidth": 2,
            "linecolor": "white",
            "showbackground": true,
            "ticks": "",
            "zerolinecolor": "white"
           },
           "zaxis": {
            "backgroundcolor": "#E5ECF6",
            "gridcolor": "white",
            "gridwidth": 2,
            "linecolor": "white",
            "showbackground": true,
            "ticks": "",
            "zerolinecolor": "white"
           }
          },
          "shapedefaults": {
           "line": {
            "color": "#2a3f5f"
           }
          },
          "ternary": {
           "aaxis": {
            "gridcolor": "white",
            "linecolor": "white",
            "ticks": ""
           },
           "baxis": {
            "gridcolor": "white",
            "linecolor": "white",
            "ticks": ""
           },
           "bgcolor": "#E5ECF6",
           "caxis": {
            "gridcolor": "white",
            "linecolor": "white",
            "ticks": ""
           }
          },
          "title": {
           "x": 0.05
          },
          "xaxis": {
           "automargin": true,
           "gridcolor": "white",
           "linecolor": "white",
           "ticks": "",
           "title": {
            "standoff": 15
           },
           "zerolinecolor": "white",
           "zerolinewidth": 2
          },
          "yaxis": {
           "automargin": true,
           "gridcolor": "white",
           "linecolor": "white",
           "ticks": "",
           "title": {
            "standoff": 15
           },
           "zerolinecolor": "white",
           "zerolinewidth": 2
          }
         }
        },
        "title": {
         "text": "Performance Metrics Evaluation"
        },
        "xaxis": {
         "title": {
          "text": "Epochs"
         }
        },
        "yaxis": {
         "title": {
          "text": "Value"
         }
        }
       }
      },
      "text/html": [
       "<div>                            <div id=\"c23da107-a9e2-4052-ab16-3f90ffa776d3\" class=\"plotly-graph-div\" style=\"height:525px; width:100%;\"></div>            <script type=\"text/javascript\">                require([\"plotly\"], function(Plotly) {                    window.PLOTLYENV=window.PLOTLYENV || {};                                    if (document.getElementById(\"c23da107-a9e2-4052-ab16-3f90ffa776d3\")) {                    Plotly.newPlot(                        \"c23da107-a9e2-4052-ab16-3f90ffa776d3\",                        [{\"mode\":\"lines\",\"name\":\"val_accuracy\",\"x\":[1,2,3,4,5,6,7,8,9,10,11,12,13,14,15,16,17,18,19,20,21,22,23,24,25,26,27,28,29,30,31,32,33,34,35,36,37,38,39,40,41,42,43,44,45,46,47,48,49],\"y\":[0.9291666746139526,0.9467499852180481,0.9548333287239075,0.9583333134651184,0.9632499814033508,0.9645000100135803,0.9680833220481873,0.968999981880188,0.9714166522026062,0.971833348274231,0.9729166626930237,0.9742500185966492,0.9750833511352539,0.9746666550636292,0.9753333330154419,0.9745000004768372,0.9770833253860474,0.9775000214576721,0.9775833487510681,0.9776666760444641,0.9785833358764648,0.9789166450500488,0.9784166812896729,0.9791666865348816,0.9790833592414856,0.9779166579246521,0.9785000085830688,0.9796666502952576,0.9789999723434448,0.9801666736602783,0.9789166450500488,0.9796666502952576,0.9794999957084656,0.9788333177566528,0.9800833463668823,0.9794166684150696,0.9801666736602783,0.9797499775886536,0.9805833101272583,0.9797499775886536,0.9804999828338623,0.9804999828338623,0.9810000061988831,0.9808333516120911,0.9810000061988831,0.9800000190734863,0.9810000061988831,0.9807500243186951,0.9808333516120911],\"type\":\"scatter\"},{\"mode\":\"lines\",\"name\":\"accuracy\",\"x\":[1,2,3,4,5,6,7,8,9,10,11,12,13,14,15,16,17,18,19,20,21,22,23,24,25,26,27,28,29,30,31,32,33,34,35,36,37,38,39,40,41,42,43,44,45,46,47,48,49],\"y\":[0.8853124976158142,0.9212291836738586,0.9379166960716248,0.9480208158493042,0.9542708396911621,0.960687518119812,0.963937520980835,0.9677083492279053,0.9702708125114441,0.9742500185966492,0.976270854473114,0.9774166941642761,0.979687511920929,0.9813958406448364,0.9828958511352539,0.9841458201408386,0.9846875071525574,0.9859374761581421,0.9873541593551636,0.987666666507721,0.9886666536331177,0.9893125295639038,0.9899791479110718,0.9905833601951599,0.9909999966621399,0.9915833473205566,0.9914166927337646,0.9925833344459534,0.9932916760444641,0.9933124780654907,0.9929583072662354,0.9935416579246521,0.9942291378974915,0.9944999814033508,0.9945416450500488,0.9948124885559082,0.9950833320617676,0.9950833320617676,0.995145857334137,0.9952083230018616,0.9963124990463257,0.9962291717529297,0.9964166879653931,0.9961041808128357,0.9964166879653931,0.9963750243186951,0.9964166879653931,0.996833324432373,0.9966041445732117],\"type\":\"scatter\"},{\"mode\":\"lines\",\"name\":\"val_Precision_C\",\"x\":[1,2,3,4,5,6,7,8,9,10,11,12,13,14,15,16,17,18,19,20,21,22,23,24,25,26,27,28,29,30,31,32,33,34,35,36,37,38,39,40,41,42,43,44,45,46,47,48,49],\"y\":[0.9969398975372314,0.9973130822181702,0.9977769255638123,0.9980542659759521,0.9984237551689148,0.9983322620391846,0.9982408881187439,0.997872531414032,0.9982415437698364,0.9985184073448181,0.9985184073448181,0.9982420206069946,0.9984270930290222,0.9986109733581543,0.9986108541488647,0.9987956285476685,0.9988879561424255,0.999073326587677,0.9987038373947144,0.9988884925842285,0.9987964034080505,0.9987039566040039,0.9987964034080505,0.9984269738197327,0.9987961649894714,0.9988885521888733,0.9986108541488647,0.9987039566040039,0.998796284198761,0.9987961649894714,0.998795747756958,0.9989806413650513,0.9986112117767334,0.9987034797668457,0.9986116290092468,0.9986113905906677,0.9987044334411621,0.9984269738197327,0.9986110925674438,0.9983344078063965,0.9987959861755371,0.9986115097999573,0.998704195022583,0.9986113905906677,0.9987037181854248,0.9987038373947144,0.9981495141983032,0.9989809989929199,0.9985193610191345],\"type\":\"scatter\"},{\"mode\":\"lines\",\"name\":\"Precision_C\",\"x\":[1,2,3,4,5,6,7,8,9,10,11,12,13,14,15,16,17,18,19,20,21,22,23,24,25,26,27,28,29,30,31,32,33,34,35,36,37,38,39,40,41,42,43,44,45,46,47,48,49],\"y\":[0.993591845035553,0.9959973096847534,0.9967614412307739,0.9975016117095947,0.997757077217102,0.9978494644165039,0.9981038570404053,0.9984272122383118,0.9986123442649841,0.9985437393188477,0.9987747073173523,0.9987053871154785,0.9987980127334595,0.9990520477294922,0.9988445043563843,0.9990983009338379,0.9991677403450012,0.9992141127586365,0.9992372393608093,0.9991680383682251,0.9993759393692017,0.9995375871658325,0.9994452595710754,0.9995145201683044,0.9994915723800659,0.9995378255844116,0.9996532797813416,0.9995377659797668,0.9996764063835144,0.999768853187561,0.9995608925819397,0.9994222521781921,0.9997919797897339,0.9996302723884583,0.9996071457862854,0.999768853187561,0.9997919797897339,0.9996302723884583,0.999745786190033,0.999745786190033,0.9997227191925049,0.9996533393859863,0.9997919797897339,0.9996764659881592,0.9997919797897339,0.999745786190033,0.9998612999916077,0.9997689127922058,0.9998613595962524],\"type\":\"scatter\"},{\"mode\":\"lines\",\"name\":\"val_Recall_C\",\"x\":[1,2,3,4,5,6,7,8,9,10,11,12,13,14,15,16,17,18,19,20,21,22,23,24,25,26,27,28,29,30,31,32,33,34,35,36,37,38,39,40,41,42,43,44,45,46,47,48,49],\"y\":[0.9949102401733398,0.9961132407188416,0.9968535900115967,0.9968535900115967,0.9964834451675415,0.9971312284469604,0.9977790117263794,0.9983342289924622,0.9981491565704346,0.9978715777397156,0.9978715777397156,0.9984267950057983,0.9986118674278259,0.997964084148407,0.9978715777397156,0.9976864457130432,0.9975013732910156,0.9976864457130432,0.9982417225837708,0.997964084148407,0.9983342289924622,0.9983342289924622,0.9983342289924622,0.9985193610191345,0.9981491565704346,0.9980566501617432,0.9978715777397156,0.9983342289924622,0.9982417225837708,0.9981491565704346,0.9977790117263794,0.9975939393043518,0.9981491565704346,0.997964084148407,0.9984267950057983,0.9982417225837708,0.9987044334411621,0.9985193610191345,0.9980566501617432,0.9984267950057983,0.997964084148407,0.9983342289924622,0.9985193610191345,0.9982417225837708,0.9981491565704346,0.9982417225837708,0.9983342289924622,0.997964084148407,0.9985193610191345],\"type\":\"scatter\"},{\"mode\":\"lines\",\"name\":\"Recall_C\",\"x\":[1,2,3,4,5,6,7,8,9,10,11,12,13,14,15,16,17,18,19,20,21,22,23,24,25,26,27,28,29,30,31,32,33,34,35,36,37,38,39,40,41,42,43,44,45,46,47,48,49],\"y\":[0.9925585389137268,0.9948464035987854,0.9957939386367798,0.99651038646698,0.9972036480903625,0.9972499012947083,0.9975272417068481,0.99761962890625,0.997873842716217,0.9983129501342773,0.998405396938324,0.998359203338623,0.9985902905464172,0.9985671639442444,0.9988445043563843,0.9986827373504639,0.9988213777542114,0.9990524649620056,0.9990524649620056,0.9991449117660522,0.9992836117744446,0.9990987181663513,0.9992373585700989,0.999191164970398,0.9995146989822388,0.9996302127838135,0.9994222521781921,0.9994684457778931,0.999445378780365,0.9995378255844116,0.9995378255844116,0.9994684457778931,0.9996302127838135,0.9996764659881592,0.999699592590332,0.999699592590332,0.999699592590332,0.9996764659881592,0.9996764659881592,0.9996533393859863,0.9997919797897339,0.9996764659881592,0.999699592590332,0.9997919797897339,0.999745786190033,0.999745786190033,0.9997689127922058,0.9997919797897339,0.9998382329940796],\"type\":\"scatter\"}],                        {\"template\":{\"data\":{\"histogram2dcontour\":[{\"type\":\"histogram2dcontour\",\"colorbar\":{\"outlinewidth\":0,\"ticks\":\"\"},\"colorscale\":[[0.0,\"#0d0887\"],[0.1111111111111111,\"#46039f\"],[0.2222222222222222,\"#7201a8\"],[0.3333333333333333,\"#9c179e\"],[0.4444444444444444,\"#bd3786\"],[0.5555555555555556,\"#d8576b\"],[0.6666666666666666,\"#ed7953\"],[0.7777777777777778,\"#fb9f3a\"],[0.8888888888888888,\"#fdca26\"],[1.0,\"#f0f921\"]]}],\"choropleth\":[{\"type\":\"choropleth\",\"colorbar\":{\"outlinewidth\":0,\"ticks\":\"\"}}],\"histogram2d\":[{\"type\":\"histogram2d\",\"colorbar\":{\"outlinewidth\":0,\"ticks\":\"\"},\"colorscale\":[[0.0,\"#0d0887\"],[0.1111111111111111,\"#46039f\"],[0.2222222222222222,\"#7201a8\"],[0.3333333333333333,\"#9c179e\"],[0.4444444444444444,\"#bd3786\"],[0.5555555555555556,\"#d8576b\"],[0.6666666666666666,\"#ed7953\"],[0.7777777777777778,\"#fb9f3a\"],[0.8888888888888888,\"#fdca26\"],[1.0,\"#f0f921\"]]}],\"heatmap\":[{\"type\":\"heatmap\",\"colorbar\":{\"outlinewidth\":0,\"ticks\":\"\"},\"colorscale\":[[0.0,\"#0d0887\"],[0.1111111111111111,\"#46039f\"],[0.2222222222222222,\"#7201a8\"],[0.3333333333333333,\"#9c179e\"],[0.4444444444444444,\"#bd3786\"],[0.5555555555555556,\"#d8576b\"],[0.6666666666666666,\"#ed7953\"],[0.7777777777777778,\"#fb9f3a\"],[0.8888888888888888,\"#fdca26\"],[1.0,\"#f0f921\"]]}],\"heatmapgl\":[{\"type\":\"heatmapgl\",\"colorbar\":{\"outlinewidth\":0,\"ticks\":\"\"},\"colorscale\":[[0.0,\"#0d0887\"],[0.1111111111111111,\"#46039f\"],[0.2222222222222222,\"#7201a8\"],[0.3333333333333333,\"#9c179e\"],[0.4444444444444444,\"#bd3786\"],[0.5555555555555556,\"#d8576b\"],[0.6666666666666666,\"#ed7953\"],[0.7777777777777778,\"#fb9f3a\"],[0.8888888888888888,\"#fdca26\"],[1.0,\"#f0f921\"]]}],\"contourcarpet\":[{\"type\":\"contourcarpet\",\"colorbar\":{\"outlinewidth\":0,\"ticks\":\"\"}}],\"contour\":[{\"type\":\"contour\",\"colorbar\":{\"outlinewidth\":0,\"ticks\":\"\"},\"colorscale\":[[0.0,\"#0d0887\"],[0.1111111111111111,\"#46039f\"],[0.2222222222222222,\"#7201a8\"],[0.3333333333333333,\"#9c179e\"],[0.4444444444444444,\"#bd3786\"],[0.5555555555555556,\"#d8576b\"],[0.6666666666666666,\"#ed7953\"],[0.7777777777777778,\"#fb9f3a\"],[0.8888888888888888,\"#fdca26\"],[1.0,\"#f0f921\"]]}],\"surface\":[{\"type\":\"surface\",\"colorbar\":{\"outlinewidth\":0,\"ticks\":\"\"},\"colorscale\":[[0.0,\"#0d0887\"],[0.1111111111111111,\"#46039f\"],[0.2222222222222222,\"#7201a8\"],[0.3333333333333333,\"#9c179e\"],[0.4444444444444444,\"#bd3786\"],[0.5555555555555556,\"#d8576b\"],[0.6666666666666666,\"#ed7953\"],[0.7777777777777778,\"#fb9f3a\"],[0.8888888888888888,\"#fdca26\"],[1.0,\"#f0f921\"]]}],\"mesh3d\":[{\"type\":\"mesh3d\",\"colorbar\":{\"outlinewidth\":0,\"ticks\":\"\"}}],\"scatter\":[{\"fillpattern\":{\"fillmode\":\"overlay\",\"size\":10,\"solidity\":0.2},\"type\":\"scatter\"}],\"parcoords\":[{\"type\":\"parcoords\",\"line\":{\"colorbar\":{\"outlinewidth\":0,\"ticks\":\"\"}}}],\"scatterpolargl\":[{\"type\":\"scatterpolargl\",\"marker\":{\"colorbar\":{\"outlinewidth\":0,\"ticks\":\"\"}}}],\"bar\":[{\"error_x\":{\"color\":\"#2a3f5f\"},\"error_y\":{\"color\":\"#2a3f5f\"},\"marker\":{\"line\":{\"color\":\"#E5ECF6\",\"width\":0.5},\"pattern\":{\"fillmode\":\"overlay\",\"size\":10,\"solidity\":0.2}},\"type\":\"bar\"}],\"scattergeo\":[{\"type\":\"scattergeo\",\"marker\":{\"colorbar\":{\"outlinewidth\":0,\"ticks\":\"\"}}}],\"scatterpolar\":[{\"type\":\"scatterpolar\",\"marker\":{\"colorbar\":{\"outlinewidth\":0,\"ticks\":\"\"}}}],\"histogram\":[{\"marker\":{\"pattern\":{\"fillmode\":\"overlay\",\"size\":10,\"solidity\":0.2}},\"type\":\"histogram\"}],\"scattergl\":[{\"type\":\"scattergl\",\"marker\":{\"colorbar\":{\"outlinewidth\":0,\"ticks\":\"\"}}}],\"scatter3d\":[{\"type\":\"scatter3d\",\"line\":{\"colorbar\":{\"outlinewidth\":0,\"ticks\":\"\"}},\"marker\":{\"colorbar\":{\"outlinewidth\":0,\"ticks\":\"\"}}}],\"scattermapbox\":[{\"type\":\"scattermapbox\",\"marker\":{\"colorbar\":{\"outlinewidth\":0,\"ticks\":\"\"}}}],\"scatterternary\":[{\"type\":\"scatterternary\",\"marker\":{\"colorbar\":{\"outlinewidth\":0,\"ticks\":\"\"}}}],\"scattercarpet\":[{\"type\":\"scattercarpet\",\"marker\":{\"colorbar\":{\"outlinewidth\":0,\"ticks\":\"\"}}}],\"carpet\":[{\"aaxis\":{\"endlinecolor\":\"#2a3f5f\",\"gridcolor\":\"white\",\"linecolor\":\"white\",\"minorgridcolor\":\"white\",\"startlinecolor\":\"#2a3f5f\"},\"baxis\":{\"endlinecolor\":\"#2a3f5f\",\"gridcolor\":\"white\",\"linecolor\":\"white\",\"minorgridcolor\":\"white\",\"startlinecolor\":\"#2a3f5f\"},\"type\":\"carpet\"}],\"table\":[{\"cells\":{\"fill\":{\"color\":\"#EBF0F8\"},\"line\":{\"color\":\"white\"}},\"header\":{\"fill\":{\"color\":\"#C8D4E3\"},\"line\":{\"color\":\"white\"}},\"type\":\"table\"}],\"barpolar\":[{\"marker\":{\"line\":{\"color\":\"#E5ECF6\",\"width\":0.5},\"pattern\":{\"fillmode\":\"overlay\",\"size\":10,\"solidity\":0.2}},\"type\":\"barpolar\"}],\"pie\":[{\"automargin\":true,\"type\":\"pie\"}]},\"layout\":{\"autotypenumbers\":\"strict\",\"colorway\":[\"#636efa\",\"#EF553B\",\"#00cc96\",\"#ab63fa\",\"#FFA15A\",\"#19d3f3\",\"#FF6692\",\"#B6E880\",\"#FF97FF\",\"#FECB52\"],\"font\":{\"color\":\"#2a3f5f\"},\"hovermode\":\"closest\",\"hoverlabel\":{\"align\":\"left\"},\"paper_bgcolor\":\"white\",\"plot_bgcolor\":\"#E5ECF6\",\"polar\":{\"bgcolor\":\"#E5ECF6\",\"angularaxis\":{\"gridcolor\":\"white\",\"linecolor\":\"white\",\"ticks\":\"\"},\"radialaxis\":{\"gridcolor\":\"white\",\"linecolor\":\"white\",\"ticks\":\"\"}},\"ternary\":{\"bgcolor\":\"#E5ECF6\",\"aaxis\":{\"gridcolor\":\"white\",\"linecolor\":\"white\",\"ticks\":\"\"},\"baxis\":{\"gridcolor\":\"white\",\"linecolor\":\"white\",\"ticks\":\"\"},\"caxis\":{\"gridcolor\":\"white\",\"linecolor\":\"white\",\"ticks\":\"\"}},\"coloraxis\":{\"colorbar\":{\"outlinewidth\":0,\"ticks\":\"\"}},\"colorscale\":{\"sequential\":[[0.0,\"#0d0887\"],[0.1111111111111111,\"#46039f\"],[0.2222222222222222,\"#7201a8\"],[0.3333333333333333,\"#9c179e\"],[0.4444444444444444,\"#bd3786\"],[0.5555555555555556,\"#d8576b\"],[0.6666666666666666,\"#ed7953\"],[0.7777777777777778,\"#fb9f3a\"],[0.8888888888888888,\"#fdca26\"],[1.0,\"#f0f921\"]],\"sequentialminus\":[[0.0,\"#0d0887\"],[0.1111111111111111,\"#46039f\"],[0.2222222222222222,\"#7201a8\"],[0.3333333333333333,\"#9c179e\"],[0.4444444444444444,\"#bd3786\"],[0.5555555555555556,\"#d8576b\"],[0.6666666666666666,\"#ed7953\"],[0.7777777777777778,\"#fb9f3a\"],[0.8888888888888888,\"#fdca26\"],[1.0,\"#f0f921\"]],\"diverging\":[[0,\"#8e0152\"],[0.1,\"#c51b7d\"],[0.2,\"#de77ae\"],[0.3,\"#f1b6da\"],[0.4,\"#fde0ef\"],[0.5,\"#f7f7f7\"],[0.6,\"#e6f5d0\"],[0.7,\"#b8e186\"],[0.8,\"#7fbc41\"],[0.9,\"#4d9221\"],[1,\"#276419\"]]},\"xaxis\":{\"gridcolor\":\"white\",\"linecolor\":\"white\",\"ticks\":\"\",\"title\":{\"standoff\":15},\"zerolinecolor\":\"white\",\"automargin\":true,\"zerolinewidth\":2},\"yaxis\":{\"gridcolor\":\"white\",\"linecolor\":\"white\",\"ticks\":\"\",\"title\":{\"standoff\":15},\"zerolinecolor\":\"white\",\"automargin\":true,\"zerolinewidth\":2},\"scene\":{\"xaxis\":{\"backgroundcolor\":\"#E5ECF6\",\"gridcolor\":\"white\",\"linecolor\":\"white\",\"showbackground\":true,\"ticks\":\"\",\"zerolinecolor\":\"white\",\"gridwidth\":2},\"yaxis\":{\"backgroundcolor\":\"#E5ECF6\",\"gridcolor\":\"white\",\"linecolor\":\"white\",\"showbackground\":true,\"ticks\":\"\",\"zerolinecolor\":\"white\",\"gridwidth\":2},\"zaxis\":{\"backgroundcolor\":\"#E5ECF6\",\"gridcolor\":\"white\",\"linecolor\":\"white\",\"showbackground\":true,\"ticks\":\"\",\"zerolinecolor\":\"white\",\"gridwidth\":2}},\"shapedefaults\":{\"line\":{\"color\":\"#2a3f5f\"}},\"annotationdefaults\":{\"arrowcolor\":\"#2a3f5f\",\"arrowhead\":0,\"arrowwidth\":1},\"geo\":{\"bgcolor\":\"white\",\"landcolor\":\"#E5ECF6\",\"subunitcolor\":\"white\",\"showland\":true,\"showlakes\":true,\"lakecolor\":\"white\"},\"title\":{\"x\":0.05},\"mapbox\":{\"style\":\"light\"}}},\"title\":{\"text\":\"Performance Metrics Evaluation\"},\"xaxis\":{\"title\":{\"text\":\"Epochs\"}},\"yaxis\":{\"title\":{\"text\":\"Value\"}}},                        {\"responsive\": true}                    ).then(function(){\n",
       "                            \n",
       "var gd = document.getElementById('c23da107-a9e2-4052-ab16-3f90ffa776d3');\n",
       "var x = new MutationObserver(function (mutations, observer) {{\n",
       "        var display = window.getComputedStyle(gd).display;\n",
       "        if (!display || display === 'none') {{\n",
       "            console.log([gd, 'removed!']);\n",
       "            Plotly.purge(gd);\n",
       "            observer.disconnect();\n",
       "        }}\n",
       "}});\n",
       "\n",
       "// Listen for the removal of the full notebook cells\n",
       "var notebookContainer = gd.closest('#notebook-container');\n",
       "if (notebookContainer) {{\n",
       "    x.observe(notebookContainer, {childList: true});\n",
       "}}\n",
       "\n",
       "// Listen for the clearing of the current output cell\n",
       "var outputEl = gd.closest('.output');\n",
       "if (outputEl) {{\n",
       "    x.observe(outputEl, {childList: true});\n",
       "}}\n",
       "\n",
       "                        })                };                });            </script>        </div>"
      ]
     },
     "metadata": {},
     "output_type": "display_data"
    },
    {
     "name": "stdout",
     "output_type": "stream",
     "text": [
      "\n",
      " Evaluate the new model against the test set:\n",
      "3/3 [==============================] - 0s 7ms/step - loss: 0.0739 - accuracy: 0.9814 - Precision_C: 0.9992 - Recall_C: 0.9987\n",
      "313/313 [==============================] - 0s 1ms/step\n"
     ]
    }
   ],
   "source": [
    "learning_rate = 0.003\n",
    "epochs = 50\n",
    "batch_size = 4000\n",
    "validation_split = 0.2\n",
    "\n",
    "# Establish the model's topography.\n",
    "my_model = create_model(learning_rate)\n",
    "\n",
    "# Train the model on the normalized training set.\n",
    "epochs, hist = train_model(my_model, x_train_normalized, y_train, \n",
    "                           epochs, batch_size, validation_split)\n",
    "\n",
    "# Plot a graph of the metric vs. epochs.\n",
    "list_of_metrics_to_plot = ['accuracy',\"Precision_C\",\"Recall_C\"]\n",
    "iplot_curve(epochs, hist, list_of_metrics_to_plot)\n",
    "\n",
    "# Evaluate against the test set.\n",
    "print(\"\\n Evaluate the new model against the test set:\")\n",
    "my_model.evaluate(x=x_test_normalized, y=y_test, batch_size=batch_size)\n",
    "preed=my_model.predict(x=x_test_normalized)\n",
    "results=preed.argmax(axis=1)"
   ]
  },
  {
   "cell_type": "code",
   "execution_count": 263,
   "id": "ed14dc2f",
   "metadata": {},
   "outputs": [
    {
     "data": {
      "text/plain": [
       "7"
      ]
     },
     "execution_count": 263,
     "metadata": {},
     "output_type": "execute_result"
    }
   ],
   "source": [
    "results[0]"
   ]
  },
  {
   "cell_type": "code",
   "execution_count": 264,
   "id": "333da659",
   "metadata": {},
   "outputs": [
    {
     "data": {
      "text/plain": [
       "<matplotlib.image.AxesImage at 0x14f83a9a888>"
      ]
     },
     "execution_count": 264,
     "metadata": {},
     "output_type": "execute_result"
    },
    {
     "data": {
      "image/png": "[encoded data removed]",
      "text/plain": [
       "<Figure size 640x480 with 1 Axes>"
      ]
     },
     "metadata": {},
     "output_type": "display_data"
    }
   ],
   "source": [
    "plt.imshow(x_test[0])"
   ]
  },
  {
   "cell_type": "code",
   "execution_count": null,
   "id": "41537fa8",
   "metadata": {},
   "outputs": [],
   "source": []
  },
  {
   "cell_type": "code",
   "execution_count": null,
   "id": "adc1bdc2",
   "metadata": {},
   "outputs": [],
   "source": []
  },
  {
   "cell_type": "code",
   "execution_count": null,
   "id": "91ca972c",
   "metadata": {},
   "outputs": [],
   "source": []
  },
  {
   "cell_type": "code",
   "execution_count": null,
   "id": "db52313f",
   "metadata": {},
   "outputs": [],
   "source": []
  },
  {
   "cell_type": "code",
   "execution_count": null,
   "id": "14be4c80",
   "metadata": {},
   "outputs": [],
   "source": []
  },
  {
   "cell_type": "code",
   "execution_count": null,
   "id": "263d70d6",
   "metadata": {},
   "outputs": [],
   "source": []
  }
 ],
 "metadata": {
  "kernelspec": {
   "display_name": "Python 3 (ipykernel)",
   "language": "python",
   "name": "python3"
  },
  "language_info": {
   "codemirror_mode": {
    "name": "ipython",
    "version": 3
   },
   "file_extension": ".py",
   "mimetype": "text/x-python",
   "name": "python",
   "nbconvert_exporter": "python",
   "pygments_lexer": "ipython3",
   "version": "3.7.16"
  }
 },
 "nbformat": 4,
 "nbformat_minor": 5
}
